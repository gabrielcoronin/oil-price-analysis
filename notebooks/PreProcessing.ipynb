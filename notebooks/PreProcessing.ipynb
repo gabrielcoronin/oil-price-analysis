{
 "cells": [
  {
   "cell_type": "markdown",
   "metadata": {},
   "source": [
    "### Extração e pré-processamento dos dados"
   ]
  },
  {
   "cell_type": "markdown",
   "metadata": {},
   "source": [
    "#### \n",
    "- Analisamos os últimos 10 anos para capturar as tendências mais recentes e manter o modelo relevante. Os dados são lidos diretamente do HTML para garantir atualizações automáticas. Realizamos o tratamento dos dados, removendo a primeira linha, renomeando colunas, ajustando o índice, convertendo os tipos de dados para datetime e numeric. Tratamos também os valores ausentes e agregamos os dados para frequência mensal, reduzindo a volatilidade e capturando tendências de médio prazo, facilitando a análise.\n"
   ]
  },
  {
   "cell_type": "code",
   "execution_count": 1,
   "metadata": {},
   "outputs": [
    {
     "data": {
      "text/html": [
       "<div>\n",
       "<style scoped>\n",
       "    .dataframe tbody tr th:only-of-type {\n",
       "        vertical-align: middle;\n",
       "    }\n",
       "\n",
       "    .dataframe tbody tr th {\n",
       "        vertical-align: top;\n",
       "    }\n",
       "\n",
       "    .dataframe thead th {\n",
       "        text-align: right;\n",
       "    }\n",
       "</style>\n",
       "<table border=\"1\" class=\"dataframe\">\n",
       "  <thead>\n",
       "    <tr style=\"text-align: right;\">\n",
       "      <th></th>\n",
       "      <th>preco</th>\n",
       "    </tr>\n",
       "    <tr>\n",
       "      <th>data</th>\n",
       "      <th></th>\n",
       "    </tr>\n",
       "  </thead>\n",
       "  <tbody>\n",
       "    <tr>\n",
       "      <th>2015-02-28</th>\n",
       "      <td>58.675000</td>\n",
       "    </tr>\n",
       "    <tr>\n",
       "      <th>2015-03-31</th>\n",
       "      <td>56.588065</td>\n",
       "    </tr>\n",
       "    <tr>\n",
       "      <th>2015-04-30</th>\n",
       "      <td>58.470000</td>\n",
       "    </tr>\n",
       "    <tr>\n",
       "      <th>2015-05-31</th>\n",
       "      <td>64.155806</td>\n",
       "    </tr>\n",
       "    <tr>\n",
       "      <th>2015-06-30</th>\n",
       "      <td>61.733333</td>\n",
       "    </tr>\n",
       "    <tr>\n",
       "      <th>...</th>\n",
       "      <td>...</td>\n",
       "    </tr>\n",
       "    <tr>\n",
       "      <th>2024-10-31</th>\n",
       "      <td>75.632609</td>\n",
       "    </tr>\n",
       "    <tr>\n",
       "      <th>2024-11-30</th>\n",
       "      <td>74.345238</td>\n",
       "    </tr>\n",
       "    <tr>\n",
       "      <th>2024-12-31</th>\n",
       "      <td>73.840000</td>\n",
       "    </tr>\n",
       "    <tr>\n",
       "      <th>2025-01-31</th>\n",
       "      <td>79.270455</td>\n",
       "    </tr>\n",
       "    <tr>\n",
       "      <th>2025-02-28</th>\n",
       "      <td>76.490000</td>\n",
       "    </tr>\n",
       "  </tbody>\n",
       "</table>\n",
       "<p>121 rows × 1 columns</p>\n",
       "</div>"
      ],
      "text/plain": [
       "                preco\n",
       "data                 \n",
       "2015-02-28  58.675000\n",
       "2015-03-31  56.588065\n",
       "2015-04-30  58.470000\n",
       "2015-05-31  64.155806\n",
       "2015-06-30  61.733333\n",
       "...               ...\n",
       "2024-10-31  75.632609\n",
       "2024-11-30  74.345238\n",
       "2024-12-31  73.840000\n",
       "2025-01-31  79.270455\n",
       "2025-02-28  76.490000\n",
       "\n",
       "[121 rows x 1 columns]"
      ]
     },
     "execution_count": 1,
     "metadata": {},
     "output_type": "execute_result"
    }
   ],
   "source": [
    "from datetime import datetime\n",
    "import pandas as pd\n",
    "import warnings\n",
    "warnings.filterwarnings(\"ignore\")\n",
    "\n",
    "\n",
    "url = 'http://www.ipeadata.gov.br/ExibeSerie.aspx?module=m&serid=1650971490&oper=view'\n",
    "tables = pd.read_html(url, decimal=',', thousands='.')\n",
    "df = tables[2]\n",
    "\n",
    "df = df.drop(index=0).reset_index(drop=True)\n",
    "df.columns = ['data', 'preco']\n",
    "\n",
    "df['data'] = pd.to_datetime(df['data'], dayfirst=True, errors='coerce')\n",
    "df['preco'] = pd.to_numeric(df['preco'], errors='coerce')\n",
    "\n",
    "df.sort_values(by='data', inplace=True)\n",
    "df.set_index('data', inplace=True)\n",
    "\n",
    "startDate = f\"{datetime.today().year - 10}-{datetime.today().month }-{datetime.today().day}\"\n",
    "df = df[df.index > startDate].dropna(subset=['preco'])\n",
    "\n",
    "missing_values = df.isnull().sum()\n",
    "\n",
    "df = df.dropna()\n",
    "\n",
    "df_monthly = df.resample('M').mean()\n",
    "\n",
    "df_monthly"
   ]
  }
 ],
 "metadata": {
  "kernelspec": {
   "display_name": "venv",
   "language": "python",
   "name": "python3"
  },
  "language_info": {
   "codemirror_mode": {
    "name": "ipython",
    "version": 3
   },
   "file_extension": ".py",
   "mimetype": "text/x-python",
   "name": "python",
   "nbconvert_exporter": "python",
   "pygments_lexer": "ipython3",
   "version": "3.11.9"
  }
 },
 "nbformat": 4,
 "nbformat_minor": 2
}
